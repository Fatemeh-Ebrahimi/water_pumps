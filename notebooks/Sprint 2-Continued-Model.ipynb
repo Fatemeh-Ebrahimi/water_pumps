{
 "cells": [
  {
   "cell_type": "code",
   "execution_count": 9,
   "id": "daec0a87",
   "metadata": {},
   "outputs": [],
   "source": [
    "import pandas as pd\n",
    "import numpy as np\n",
    "import os\n",
    "import matplotlib.pyplot as plt\n",
    "import seaborn as sns\n",
    "from sklearn.model_selection import cross_val_score\n",
    "from sklearn.preprocessing import LabelEncoder\n",
    "from sklearn.preprocessing import StandardScaler\n",
    "from sklearn.pipeline import Pipeline\n",
    "from sklearn.model_selection import GridSearchCV\n",
    "from sklearn.linear_model import LogisticRegression\n",
    "from sklearn.model_selection import train_test_split\n",
    "from sklearn.metrics import classification_report, confusion_matrix\n",
    "import joblib"
   ]
  },
  {
   "cell_type": "code",
   "execution_count": 10,
   "id": "7e1e17e2",
   "metadata": {},
   "outputs": [
    {
     "name": "stdout",
     "output_type": "stream",
     "text": [
      "Files successfully loaded and merged!\n"
     ]
    }
   ],
   "source": [
    "data_path = os.path.join(os.getcwd(), '..', 'data')\n",
    "out_path = os.path.join(os.getcwd(), '..', 'outputs')     # For the output\n",
    "\n",
    "# Read the files\n",
    "train = pd.read_csv(os.path.join(data_path, 'feature_engineered_data_final_v3.csv'))\n",
    "labels = pd.read_csv(os.path.join(data_path, 'train_labels.csv'))\n",
    "\n",
    "# Drop status_group if it already exists in train\n",
    "if 'status_group' in train.columns:\n",
    "    train = train.drop(columns=['status_group'])\n",
    "# Merge training labels\n",
    "df = pd.merge(train, labels, on='id')\n",
    "print('Files successfully loaded and merged!')\n"
   ]
  },
  {
   "cell_type": "code",
   "execution_count": 12,
   "id": "20f51946",
   "metadata": {},
   "outputs": [],
   "source": [
    "# Drop status_group if it already exists in train\n",
    "if 'status_group' in train.columns:\n",
    "    train = train.drop(columns=['status_group'])\n",
    "df = train.merge(labels, on='id')\n",
    "df = df.drop(columns=['region','lga', 'extraction_type', 'management']) #for now\n",
    "df['water_quality_numeric'] = df['water_quality_numeric'].fillna(0)\n",
    "df['water_risk_score_log'] = df['water_risk_score_log'].fillna(0)\n"
   ]
  },
  {
   "cell_type": "code",
   "execution_count": 13,
   "id": "19fc51c3",
   "metadata": {},
   "outputs": [],
   "source": [
    "#all categorical features (excluding target)\n",
    "categorical_cols = df.select_dtypes(include='object').columns.tolist()\n",
    "categorical_cols = [col for col in categorical_cols if col != 'status_group']\n",
    "\n",
    "# One-hot encode medium-cardinality features (3 to 10 unique values)\n",
    "onehot_cols = [col for col in categorical_cols if 2 < df[col].nunique() <= 10]\n",
    "df_encoded = pd.get_dummies(df, columns=onehot_cols, drop_first=True)\n",
    "\n",
    "# Label encode low-cardinality features (≤ 2 unique values)\n",
    "label_enc_cols = [col for col in categorical_cols if df[col].nunique() <= 2]\n",
    "\n",
    "label_encoders = {}\n",
    "for col in label_enc_cols:\n",
    "    le = LabelEncoder()\n",
    "    df_encoded[col] = le.fit_transform(df[col].astype(str)) \n",
    "    label_encoders[col] = le"
   ]
  },
  {
   "cell_type": "code",
   "execution_count": 14,
   "id": "6f5c254a",
   "metadata": {},
   "outputs": [
    {
     "name": "stdout",
     "output_type": "stream",
     "text": [
      "Updated dataset saved as final_data.csv\n"
     ]
    }
   ],
   "source": [
    "df.to_csv(os.path.join(data_path, 'final_data.csv'), index=False)\n",
    "print(\"Updated dataset saved as final_data.csv\")"
   ]
  },
  {
   "cell_type": "code",
   "execution_count": 15,
   "id": "351a68b6",
   "metadata": {},
   "outputs": [],
   "source": [
    "# Encode target labels\n",
    "le = LabelEncoder()\n",
    "y_encoded = le.fit_transform(df['status_group']) \n",
    "\n",
    "leak_cols = [col for col in df_encoded.columns if 'status_group_' in col or 'status_group.' in col]\n",
    "df_encoded = df_encoded.drop(columns=leak_cols)\n",
    "\n",
    "# Define features and target\n",
    "X = df_encoded.drop(columns=['status_group','id'])\n",
    "y = y_encoded"
   ]
  },
  {
   "cell_type": "code",
   "execution_count": 16,
   "id": "f083cc0c",
   "metadata": {},
   "outputs": [],
   "source": [
    "X_train, X_test, y_train, y_test = train_test_split(\n",
    "    X, y, test_size=0.2, stratify=y, random_state=42\n",
    ")"
   ]
  },
  {
   "cell_type": "code",
   "execution_count": 17,
   "id": "d83288a5",
   "metadata": {},
   "outputs": [
    {
     "name": "stdout",
     "output_type": "stream",
     "text": [
      " Type: <class 'sklearn.model_selection._search.GridSearchCV'>\n",
      " Best Estimator: Pipeline(steps=[('scaler', StandardScaler()),\n",
      "                ('logreg',\n",
      "                 LogisticRegression(C=0.01, max_iter=1000, solver='saga'))])\n"
     ]
    },
    {
     "data": {
      "text/plain": [
       "['best_logistic_model.pkl']"
      ]
     },
     "execution_count": 17,
     "metadata": {},
     "output_type": "execute_result"
    }
   ],
   "source": [
    "# pipeline\n",
    "pipeline = Pipeline([\n",
    "    ('scaler', StandardScaler()),\n",
    "    ('logreg', LogisticRegression(max_iter=1000))\n",
    "])\n",
    "\n",
    "# Parameter grid\n",
    "param_grid = {\n",
    "    'logreg__C': [0.01, 0.1],\n",
    "    'logreg__penalty': ['l2'],\n",
    "    'logreg__solver': ['lbfgs', 'saga']\n",
    "}\n",
    "\n",
    "# Grid search\n",
    "grid_search = GridSearchCV(pipeline, param_grid, cv=5, scoring='accuracy')\n",
    "grid_search.fit(X_train, y_train)  # this is essential\n",
    "\n",
    "# Check best_estimator_\n",
    "print(\" Type:\", type(grid_search))\n",
    "print(\" Best Estimator:\", grid_search.best_estimator_)\n",
    "\n",
    "# Save to file\n",
    "joblib.dump(grid_search.best_estimator_, 'best_logistic_model.pkl')\n"
   ]
  },
  {
   "cell_type": "code",
   "execution_count": 18,
   "id": "e3aed221",
   "metadata": {},
   "outputs": [
    {
     "name": "stdout",
     "output_type": "stream",
     "text": [
      " Classification Report on Test Set:\n",
      "                         precision    recall  f1-score   support\n",
      "\n",
      "             functional       0.71      0.91      0.79      6278\n",
      "functional needs repair       0.62      0.03      0.06       786\n",
      "         non functional       0.78      0.60      0.68      4454\n",
      "\n",
      "               accuracy                           0.73     11518\n",
      "              macro avg       0.71      0.51      0.51     11518\n",
      "           weighted avg       0.73      0.73      0.70     11518\n",
      "\n",
      " Confusion Matrix:\n",
      "[[5686    5  587]\n",
      " [ 610   25  151]\n",
      " [1750   10 2694]]\n"
     ]
    }
   ],
   "source": [
    "# Evaluate on the test set\n",
    "\n",
    "y_test_pred = grid_search.best_estimator_.predict(X_test)\n",
    "\n",
    "print(\" Classification Report on Test Set:\")\n",
    "print(classification_report(y_test, y_test_pred, target_names=le.classes_))\n",
    "\n",
    "print(\" Confusion Matrix:\")\n",
    "print(confusion_matrix(y_test, y_test_pred))"
   ]
  }
 ],
 "metadata": {
  "kernelspec": {
   "display_name": "Python (water_pumps)",
   "language": "python",
   "name": "water_pumps"
  },
  "language_info": {
   "codemirror_mode": {
    "name": "ipython",
    "version": 3
   },
   "file_extension": ".py",
   "mimetype": "text/x-python",
   "name": "python",
   "nbconvert_exporter": "python",
   "pygments_lexer": "ipython3",
   "version": "3.10.0"
  }
 },
 "nbformat": 4,
 "nbformat_minor": 5
}
