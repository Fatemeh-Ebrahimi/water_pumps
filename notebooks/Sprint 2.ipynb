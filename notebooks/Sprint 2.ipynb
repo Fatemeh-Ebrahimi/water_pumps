{
 "cells": [
  {
   "cell_type": "markdown",
   "id": "6afa9758",
   "metadata": {},
   "source": [
    "### Sprint 2: Model Development"
   ]
  },
  {
   "cell_type": "code",
   "execution_count": 63,
   "id": "838d72db",
   "metadata": {},
   "outputs": [],
   "source": [
    "# Feature Engineering for Water Pump Classification\n",
    "import pandas as pd\n",
    "import numpy as np\n",
    "import os\n",
    "from sklearn.preprocessing import LabelEncoder\n",
    "import matplotlib.pyplot as plt\n",
    "import seaborn as sns"
   ]
  },
  {
   "cell_type": "code",
   "execution_count": 72,
   "id": "90918a16",
   "metadata": {},
   "outputs": [
    {
     "name": "stdout",
     "output_type": "stream",
     "text": [
      "Files successfully loaded and merged!\n"
     ]
    }
   ],
   "source": [
    "data_path = os.path.join(os.getcwd(), '..', 'data')\n",
    "out_path = os.path.join(os.getcwd(), '..', 'outputs')     # For the output\n",
    "\n",
    "# Read the files\n",
    "train = pd.read_csv(os.path.join(data_path, 'cleaned_data_filled_V6.csv'))\n",
    "labels = pd.read_csv(os.path.join(data_path, 'train_labels.csv'))\n",
    "\n",
    "# Merge training labels\n",
    "df = pd.merge(train, labels, on='id')\n",
    "print('Files successfully loaded and merged!')\n"
   ]
  },
  {
   "cell_type": "markdown",
   "id": "1c13f770",
   "metadata": {},
   "source": [
    "## Ticket 2.1.1: New Features "
   ]
  },
  {
   "cell_type": "code",
   "execution_count": 80,
   "id": "314a11eb",
   "metadata": {},
   "outputs": [],
   "source": [
    "# Age of pump\n",
    "current_year = 2025\n",
    "df['pump_age'] = current_year - df['construction_year']\n",
    "\n",
    "# Manual vs. motorized extraction\n",
    "df['is_manual_pump'] = df['extraction_type_class'].str.lower().str.contains('hand').astype(int)\n",
    "\n",
    "# water_risk_score\n",
    "\n",
    "# 1. Water Quality + Quantity Combination: Create 'water_risk_score'\n",
    "# Map water_quality into numeric risk levels\n",
    "water_quality_map = {\n",
    "    'soft': 1, 'good': 1,\n",
    "    'salty': 2, 'milky': 2,\n",
    "    'coloured': 3, 'fluoride': 3, 'fluoride, salty': 4, 'salty abandoned': 4\n",
    "}\n",
    "df['water_quality_numeric'] = df['water_quality'].map(water_quality_map)\n",
    "\n",
    "# Combine amount_tsh_capped and water quality\n",
    "df['water_risk_score'] = df['amount_tsh_capped'] * df['water_quality_numeric']"
   ]
  },
  {
   "cell_type": "markdown",
   "id": "c13081a6",
   "metadata": {},
   "source": [
    "## Ticket 2.1.2: Transform existing features to improve model performance "
   ]
  },
  {
   "cell_type": "code",
   "execution_count": 86,
   "id": "ab9b4a5d",
   "metadata": {},
   "outputs": [
    {
     "name": "stdout",
     "output_type": "stream",
     "text": [
      "Feature Skewness:\n",
      "num_private: 90.521\n",
      "amount_tsh: 56.938\n",
      "water_risk_score: 8.917\n",
      "has_private_owner: 8.549\n",
      "amount_tsh_capped: 8.062\n",
      "district_code: 3.902\n",
      "population: 3.699\n",
      "water_quality_numeric: 3.483\n",
      "region_code: 3.142\n",
      "amount_tsh_log: 1.290\n",
      "amount_tsh_capped_log: 1.281\n",
      "population_log: -1.278\n",
      "water_risk_score_log: 1.238\n",
      "pump_age: 1.232\n",
      "construction_year: -1.232\n",
      "is_manual_pump: 1.073\n",
      "gps_height: -0.612\n",
      "latitude: -0.252\n",
      "recorded_year: -0.145\n",
      "longitude: -0.135\n"
     ]
    }
   ],
   "source": [
    "# First we want to see distribution of all numerical values, Select only numerical columns\n",
    "numerical_cols = df.select_dtypes(include=[np.number]).columns.tolist()\n",
    "\n",
    "#  Drop ID and target columns\n",
    "numerical_cols = [col for col in numerical_cols if col not in ['id', 'status_group_numeric']]\n",
    "\n",
    "#Calculate skewness\n",
    "from scipy.stats import skew\n",
    "skewness_results = {}\n",
    "\n",
    "for col in numerical_cols:\n",
    "    skew_val = skew(df[col].dropna())\n",
    "    skewness_results[col] = skew_val\n",
    "\n",
    "# Sort by skewness\n",
    "skewness_sorted = dict(sorted(skewness_results.items(), key=lambda item: abs(item[1]), reverse=True))\n",
    "\n",
    "# Show results\n",
    "print(\"Feature Skewness:\")\n",
    "for feature, skew_val in skewness_sorted.items():\n",
    "    print(f\"{feature}: {skew_val:.3f}\")\n",
    "\n",
    "\n"
   ]
  },
  {
   "cell_type": "markdown",
   "id": "d149687a",
   "metadata": {},
   "source": [
    "#### Decision Based on Skewness Analysis\n",
    "Apply log1p transformation (log(x+1)) to the following features to reduce skewness:num_private, amount_tsh, water_risk_score, amount_tsh_capped ,population, pump_age\n",
    "\n",
    "#### For other features, no transformation is necessary at this stage.\n",
    "\n",
    "#### New features will be saved with a _log suffix (e.g., amount_tsh_log) to preserve original columns.\n"
   ]
  },
  {
   "cell_type": "code",
   "execution_count": 97,
   "id": "dec5dc8e",
   "metadata": {},
   "outputs": [],
   "source": [
    "# List of skewed columns for log-transform\n",
    "skewed_cols = ['amount_tsh', 'water_risk_score', 'amount_tsh_capped', 'population' ]\n",
    "\n",
    "# Apply log1p transformation and create new columns with _log suffix\n",
    "for col in skewed_cols:\n",
    "    df[col + '_log'] = np.log1p(df[col])"
   ]
  },
  {
   "cell_type": "code",
   "execution_count": 102,
   "id": "360237b6",
   "metadata": {},
   "outputs": [
    {
     "name": "stdout",
     "output_type": "stream",
     "text": [
      "amount_tsh_log skewness: 1.290\n",
      "water_risk_score_log skewness: 1.238\n",
      "amount_tsh_capped_log skewness: 1.281\n",
      "population_log skewness: -1.278\n"
     ]
    }
   ],
   "source": [
    "#check the skewness after log-transforming\n",
    "for col in skewed_cols:\n",
    "    print(f\"{col}_log skewness: {skew(df[col + '_log'].dropna()):.3f}\")"
   ]
  },
  {
   "cell_type": "markdown",
   "id": "01664aca",
   "metadata": {},
   "source": [
    "#### num_private is extremely sparse: most pumps have no private owner (value = 0).\n",
    "#### Only a tiny number of pumps have some private ownership information.\n",
    "#### It's not a continuous variable in reality — it behaves like a binary feature (yes/no private ownership). 0 → No private owner 1 → Private owner exists"
   ]
  },
  {
   "cell_type": "code",
   "execution_count": 105,
   "id": "4e7ea0f6",
   "metadata": {},
   "outputs": [],
   "source": [
    "df['has_private_owner'] = (df['num_private'] > 0).astype(int)\n"
   ]
  },
  {
   "cell_type": "code",
   "execution_count": 108,
   "id": "6764fd47",
   "metadata": {},
   "outputs": [],
   "source": [
    "# Bin pump_age into categories\n",
    "df['pump_age_binned'] = pd.cut(\n",
    "    df['pump_age'],\n",
    "    bins=[0, 10, 30, 100],\n",
    "    labels=['young', 'medium', 'old']\n",
    ")"
   ]
  },
  {
   "cell_type": "code",
   "execution_count": null,
   "id": "3c92771e",
   "metadata": {},
   "outputs": [],
   "source": []
  },
  {
   "cell_type": "code",
   "execution_count": 110,
   "id": "75bfdbfd",
   "metadata": {},
   "outputs": [
    {
     "name": "stdout",
     "output_type": "stream",
     "text": [
      "Data saved successfully: feature_engineered_data_V1.csv\n"
     ]
    }
   ],
   "source": [
    "df.to_csv(os.path.join(data_path,\"feature_engineered_data_V1.csv\"), index=False)\n",
    "print('Data saved successfully: feature_engineered_data_V1.csv')"
   ]
  }
 ],
 "metadata": {
  "kernelspec": {
   "display_name": "Python (water_pumps)",
   "language": "python",
   "name": "water_pumps"
  },
  "language_info": {
   "codemirror_mode": {
    "name": "ipython",
    "version": 3
   },
   "file_extension": ".py",
   "mimetype": "text/x-python",
   "name": "python",
   "nbconvert_exporter": "python",
   "pygments_lexer": "ipython3",
   "version": "3.10.0"
  }
 },
 "nbformat": 4,
 "nbformat_minor": 5
}
