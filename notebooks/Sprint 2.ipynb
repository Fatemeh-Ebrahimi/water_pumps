{
 "cells": [
  {
   "cell_type": "markdown",
   "id": "6afa9758",
   "metadata": {},
   "source": [
    "### Sprint 2: Model Development"
   ]
  },
  {
   "cell_type": "code",
   "execution_count": 1,
   "id": "838d72db",
   "metadata": {},
   "outputs": [],
   "source": [
    "# Feature Engineering for Water Pump Classification\n",
    "import pandas as pd\n",
    "import numpy as np\n",
    "import os\n",
    "from sklearn.preprocessing import LabelEncoder\n",
    "import matplotlib.pyplot as plt\n",
    "import seaborn as sns"
   ]
  },
  {
   "cell_type": "code",
   "execution_count": 4,
   "id": "90918a16",
   "metadata": {},
   "outputs": [
    {
     "name": "stdout",
     "output_type": "stream",
     "text": [
      "Files successfully loaded and merged!\n"
     ]
    }
   ],
   "source": [
    "data_path = os.path.join(os.getcwd(), '..', 'data')\n",
    "out_path = os.path.join(os.getcwd(), '..', 'outputs')     # For the output\n",
    "\n",
    "# Read the files\n",
    "train = pd.read_csv(os.path.join(data_path, 'cleaned_data_filled_V6.csv'))\n",
    "labels = pd.read_csv(os.path.join(data_path, 'train_labels.csv'))\n",
    "\n",
    "# Merge training labels\n",
    "df = pd.merge(train, labels, on='id')\n",
    "print('Files successfully loaded and merged!')\n"
   ]
  },
  {
   "cell_type": "markdown",
   "id": "1c13f770",
   "metadata": {},
   "source": [
    "## Ticket 2.1.1: New Features "
   ]
  },
  {
   "cell_type": "code",
   "execution_count": 6,
   "id": "314a11eb",
   "metadata": {},
   "outputs": [],
   "source": [
    "# Age of pump\n",
    "current_year = 2025\n",
    "df['pump_age'] = current_year - df['construction_year']\n",
    "\n",
    "# Manual vs. motorized extraction\n",
    "df['is_manual_pump'] = df['extraction_type_class'].str.lower().str.contains('hand').astype(int)\n",
    "\n",
    "# water_risk_score\n",
    "\n",
    "# 1. Water Quality + Quantity Combination: Create 'water_risk_score'\n",
    "# Map water_quality into numeric risk levels\n",
    "water_quality_map = {\n",
    "    'soft': 1, 'good': 1,\n",
    "    'salty': 2, 'milky': 2,\n",
    "    'coloured': 3, 'fluoride': 3, 'fluoride, salty': 4, 'salty abandoned': 4\n",
    "}\n",
    "df['water_quality_numeric'] = df['water_quality'].map(water_quality_map)\n",
    "\n",
    "# Combine amount_tsh_capped and water quality\n",
    "df['water_risk_score'] = df['amount_tsh_capped'] * df['water_quality_numeric']"
   ]
  },
  {
   "cell_type": "markdown",
   "id": "c13081a6",
   "metadata": {},
   "source": [
    "## Ticket 2.1.2: Transform existing features to improve model performance "
   ]
  }
 ],
 "metadata": {
  "kernelspec": {
   "display_name": "Python (water_pumps)",
   "language": "python",
   "name": "water_pumps"
  },
  "language_info": {
   "codemirror_mode": {
    "name": "ipython",
    "version": 3
   },
   "file_extension": ".py",
   "mimetype": "text/x-python",
   "name": "python",
   "nbconvert_exporter": "python",
   "pygments_lexer": "ipython3",
   "version": "3.10.0"
  }
 },
 "nbformat": 4,
 "nbformat_minor": 5
}
